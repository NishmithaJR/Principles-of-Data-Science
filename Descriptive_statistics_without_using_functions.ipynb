{
  "nbformat": 4,
  "nbformat_minor": 0,
  "metadata": {
    "colab": {
      "provenance": [],
      "authorship_tag": "ABX9TyNgOXA2l2Wdn5FoN+32igUf",
      "include_colab_link": true
    },
    "kernelspec": {
      "name": "python3",
      "display_name": "Python 3"
    },
    "language_info": {
      "name": "python"
    }
  },
  "cells": [
    {
      "cell_type": "markdown",
      "metadata": {
        "id": "view-in-github",
        "colab_type": "text"
      },
      "source": [
        "<a href=\"https://colab.research.google.com/github/NishmithaJR/Principles-of-Data-Science/blob/main/Descriptive_statistics_without_using_functions.ipynb\" target=\"_parent\"><img src=\"https://colab.research.google.com/assets/colab-badge.svg\" alt=\"Open In Colab\"/></a>"
      ]
    },
    {
      "cell_type": "code",
      "execution_count": null,
      "metadata": {
        "colab": {
          "base_uri": "https://localhost:8080/"
        },
        "id": "mGOsfj2Pc098",
        "outputId": "6421e1ae-16ae-4a64-d458-e1306d5031f5"
      },
      "outputs": [
        {
          "output_type": "stream",
          "name": "stdout",
          "text": [
            "Mean / Average is: 3.0\n"
          ]
        }
      ],
      "source": [
        "# Python program to print\n",
        "# mean of elements\n",
        "\n",
        "# list of elements to calculate mean\n",
        "n_num = [1, 2, 3, 4, 5]\n",
        "n = len(n_num)\n",
        "\n",
        "get_sum = sum(n_num)\n",
        "mean = get_sum / n\n",
        "\n",
        "print(\"Mean / Average is: \" + str(mean))\n"
      ]
    },
    {
      "cell_type": "code",
      "source": [
        "def mean(numbers):\n",
        "    return sum(numbers) / len(numbers)\n",
        "\n",
        "numbers = [1, 2, 3, 4, 5]\n",
        "print(\"Mean / Average is:\", mean(numbers))"
      ],
      "metadata": {
        "colab": {
          "base_uri": "https://localhost:8080/"
        },
        "id": "bjQ69OzC0Cmn",
        "outputId": "e52057ab-9b37-4aca-dd2c-ba0f97a84eba"
      },
      "execution_count": null,
      "outputs": [
        {
          "output_type": "stream",
          "name": "stdout",
          "text": [
            "Mean / Average is: 3.0\n"
          ]
        }
      ]
    },
    {
      "cell_type": "code",
      "source": [
        "# Python program to print\n",
        "# median of elements\n",
        "\n",
        "# list of elements to calculate median\n",
        "n_num = [1, 2, 3, 4, 5]\n",
        "n = len(n_num)\n",
        "n_num.sort()\n",
        "\n",
        "if n % 2 == 0:\n",
        "\tmedian1 = n_num[n//2]\n",
        "\tmedian2 = n_num[n//2 - 1]\n",
        "\tmedian = (median1 + median2)/2\n",
        "else:\n",
        "\tmedian = n_num[n//2]\n",
        "print(\"Median is: \" + str(median))\n"
      ],
      "metadata": {
        "colab": {
          "base_uri": "https://localhost:8080/"
        },
        "id": "mCBB9hL-dPZ3",
        "outputId": "3172ccf8-d92c-4288-bf5f-1987fa4f1459"
      },
      "execution_count": null,
      "outputs": [
        {
          "output_type": "stream",
          "name": "stdout",
          "text": [
            "Median is: 3\n"
          ]
        }
      ]
    },
    {
      "cell_type": "code",
      "source": [
        "def median(numbers):\n",
        "    numbers.sort()\n",
        "    n = len(numbers)\n",
        "    if n % 2 == 0:\n",
        "        return (numbers[n//2-1] + numbers[n//2]) / 2\n",
        "    else:\n",
        "        return numbers[n//2]\n",
        "\n",
        "numbers = [1, 2, 3, 4, 5]\n",
        "print(\"Median is:\", median(numbers))\n"
      ],
      "metadata": {
        "colab": {
          "base_uri": "https://localhost:8080/"
        },
        "id": "JwkwftZJ0FJv",
        "outputId": "8231893f-65c7-4c01-8983-01914081c713"
      },
      "execution_count": null,
      "outputs": [
        {
          "output_type": "stream",
          "name": "stdout",
          "text": [
            "Median is: 3\n"
          ]
        }
      ]
    },
    {
      "cell_type": "code",
      "source": [
        "# Python program to print\n",
        "# mode of elements\n",
        "from collections import Counter\n",
        "\n",
        "# list of elements to calculate mode\n",
        "n_num = [1, 2, 3, 4, 5, 5]\n",
        "n = len(n_num)\n",
        "\n",
        "data = Counter(n_num)\n",
        "get_mode = dict(data)\n",
        "mode = [k for k, v in get_mode.items() if v == max(list(data.values()))]\n",
        "\n",
        "if len(mode) == n:\n",
        "\tget_mode = \"No mode found\"\n",
        "else:\n",
        "\tget_mode = \"Mode is / are: \" + ', '.join(map(str, mode))\n",
        "\n",
        "print(get_mode)\n"
      ],
      "metadata": {
        "colab": {
          "base_uri": "https://localhost:8080/"
        },
        "id": "5B5fRs6ldS0_",
        "outputId": "719203eb-fcb2-47e4-e80d-56fff482b0a2"
      },
      "execution_count": null,
      "outputs": [
        {
          "output_type": "stream",
          "name": "stdout",
          "text": [
            "Mode is / are: 5\n"
          ]
        }
      ]
    },
    {
      "cell_type": "code",
      "source": [
        "def mode(numbers):\n",
        "    freq = {}\n",
        "    for num in numbers:\n",
        "        if num in freq:\n",
        "            freq[num] += 1\n",
        "        else:\n",
        "            freq[num] = 1\n",
        "\n",
        "    mode = []\n",
        "    max_freq = 0\n",
        "    for key, value in freq.items():\n",
        "        if value > max_freq:\n",
        "            mode = [key]\n",
        "            max_freq = value\n",
        "        elif value == max_freq:\n",
        "            mode.append(key)\n",
        "\n",
        "    return mode\n",
        "\n",
        "numbers = [1, 2, 3, 4, 5, 5]\n",
        "print(\"Mode is:\", mode(numbers))\n"
      ],
      "metadata": {
        "colab": {
          "base_uri": "https://localhost:8080/"
        },
        "id": "MTglb-7C0qCH",
        "outputId": "6f694abf-b7e9-4d18-b3f7-02bdec4ccb88"
      },
      "execution_count": null,
      "outputs": [
        {
          "output_type": "stream",
          "name": "stdout",
          "text": [
            "Mode is: [5]\n"
          ]
        }
      ]
    },
    {
      "cell_type": "code",
      "source": [
        "def find_range(numbers):\n",
        "    if not numbers:\n",
        "        return None  # Return None if the list is empty\n",
        "\n",
        "    min_value = max_value = numbers[0]  # Initialize min_value and max_value with the first element\n",
        "\n",
        "    for num in numbers:\n",
        "        if num < min_value:\n",
        "            min_value = num  # Update min_value if a smaller number is found\n",
        "        elif num > max_value:\n",
        "            max_value = num  # Update max_value if a larger number is found\n",
        "\n",
        "    return max_value - min_value\n",
        "\n",
        "# Example usage\n",
        "numbers = [7, 2, 9, 1, 5, 6]\n",
        "result = find_range(numbers)\n",
        "print(\"Range:\", result)\n"
      ],
      "metadata": {
        "colab": {
          "base_uri": "https://localhost:8080/"
        },
        "id": "PcROT5UKkQo8",
        "outputId": "3e2c089a-374e-459a-e133-eaa950172a2c"
      },
      "execution_count": null,
      "outputs": [
        {
          "output_type": "stream",
          "name": "stdout",
          "text": [
            "Range: 8\n"
          ]
        }
      ]
    },
    {
      "cell_type": "code",
      "source": [
        "def find_range(numbers):\n",
        "    return max(numbers) - min(numbers)\n",
        "\n",
        "numbers = [1, 2, 3, 4, 5]\n",
        "print(\"Range is:\", find_range(numbers))\n"
      ],
      "metadata": {
        "colab": {
          "base_uri": "https://localhost:8080/"
        },
        "id": "skjcROW2036q",
        "outputId": "f3672d72-a572-46bd-e750-77e1746c3a15"
      },
      "execution_count": null,
      "outputs": [
        {
          "output_type": "stream",
          "name": "stdout",
          "text": [
            "Range is: 4\n"
          ]
        }
      ]
    },
    {
      "cell_type": "code",
      "source": [
        "def find_variance(numbers):\n",
        "    if not numbers or len(numbers) == 1:\n",
        "        return None  # Return None if the list is empty or contains only one element\n",
        "\n",
        "    mean = sum(numbers) / len(numbers)  # Calculate the mean\n",
        "\n",
        "    # Calculate the sum of squared differences\n",
        "    sum_squared_diff = sum((num - mean) ** 2 for num in numbers)\n",
        "\n",
        "    # Calculate the variance\n",
        "    variance = sum_squared_diff / (len(numbers) - 1)\n",
        "\n",
        "    return variance\n",
        "\n",
        "# Example usage\n",
        "numbers = [2, 4, 6, 8, 10]\n",
        "result = find_variance(numbers)\n",
        "print(\"Variance:\", result)\n"
      ],
      "metadata": {
        "colab": {
          "base_uri": "https://localhost:8080/"
        },
        "id": "0hkRyqhjkUXN",
        "outputId": "12a68b8c-6db8-4b0a-be9e-47351b757ce0"
      },
      "execution_count": null,
      "outputs": [
        {
          "output_type": "stream",
          "name": "stdout",
          "text": [
            "Variance: 10.0\n"
          ]
        }
      ]
    },
    {
      "cell_type": "code",
      "source": [
        "def variance(data):\n",
        "    n = len(data)\n",
        "    mean = sum(data) / n\n",
        "    deviations = [(x - mean) ** 2 for x in data]\n",
        "    variance = sum(deviations) / n\n",
        "    return variance\n",
        "\n",
        "data = [10, 20, 30, 40, 50, 60]\n",
        "print(variance(data))\n"
      ],
      "metadata": {
        "colab": {
          "base_uri": "https://localhost:8080/"
        },
        "id": "-EPGOWNF06Iy",
        "outputId": "c2725402-00c0-4b09-db42-0aadcbdd91c9"
      },
      "execution_count": null,
      "outputs": [
        {
          "output_type": "stream",
          "name": "stdout",
          "text": [
            "291.6666666666667\n"
          ]
        }
      ]
    },
    {
      "cell_type": "code",
      "source": [
        "def find_standard_deviation(numbers):\n",
        "    if not numbers or len(numbers) == 1:\n",
        "        return None  # Return None if the list is empty or contains only one element\n",
        "\n",
        "    mean = sum(numbers) / len(numbers)  # Calculate the mean\n",
        "\n",
        "    # Calculate the sum of squared differences\n",
        "    sum_squared_diff = sum((num - mean) ** 2 for num in numbers)\n",
        "\n",
        "    # Calculate the variance\n",
        "    variance = sum_squared_diff / (len(numbers) - 1)\n",
        "\n",
        "    # Calculate the standard deviation as the square root of the variance\n",
        "    standard_deviation = variance ** 0.5\n",
        "\n",
        "    return standard_deviation\n",
        "\n",
        "# Example usage\n",
        "numbers = [2, 4, 6, 8, 10]\n",
        "result = find_standard_deviation(numbers)\n",
        "print(\"Standard Deviation:\", result)\n"
      ],
      "metadata": {
        "colab": {
          "base_uri": "https://localhost:8080/"
        },
        "id": "8SujCNd-kar9",
        "outputId": "8527d36d-5d8a-4781-d4f1-58bba38297be"
      },
      "execution_count": null,
      "outputs": [
        {
          "output_type": "stream",
          "name": "stdout",
          "text": [
            "Standard Deviation: 3.1622776601683795\n"
          ]
        }
      ]
    },
    {
      "cell_type": "code",
      "source": [
        "def standard_deviation(data):\n",
        "    n = len(data)\n",
        "    mean = sum(data) / n\n",
        "    deviations = [(x - mean) ** 2 for x in data]\n",
        "    variance = sum(deviations) / n\n",
        "    standard_deviation = variance ** 0.5\n",
        "    return standard_deviation\n",
        "\n",
        "data = [10, 20, 30, 40, 50, 60]\n",
        "print(standard_deviation(data))\n"
      ],
      "metadata": {
        "colab": {
          "base_uri": "https://localhost:8080/"
        },
        "id": "VS80qJgk1X7Y",
        "outputId": "0fd49503-100e-4266-bffb-da7a705cd032"
      },
      "execution_count": null,
      "outputs": [
        {
          "output_type": "stream",
          "name": "stdout",
          "text": [
            "17.07825127659933\n"
          ]
        }
      ]
    },
    {
      "cell_type": "code",
      "source": [
        " def find_covariance(list1, list2):\n",
        "    if not list1 or not list2 or len(list1) != len(list2):\n",
        "        return None  # Return None if either list is empty or if their lengths are different\n",
        "\n",
        "    mean1 = sum(list1) / len(list1)  # Calculate the mean of list1\n",
        "    mean2 = sum(list2) / len(list2)  # Calculate the mean of list2\n",
        "\n",
        "    # Calculate the sum of products of differences\n",
        "    sum_product_diff = sum((list1[i] - mean1) * (list2[i] - mean2) for i in range(len(list1)))\n",
        "\n",
        "    # Calculate the covariance\n",
        "    covariance = sum_product_diff / (len(list1) - 1)\n",
        "\n",
        "    return covariance\n",
        "\n",
        "# Example usage\n",
        "list1 = [2, 4, 6, 8, 10]\n",
        "list2 = [1, 3, 5, 7, 9]\n",
        "result = find_covariance(list1, list2)\n",
        "print(\"Covariance:\", result)\n"
      ],
      "metadata": {
        "colab": {
          "base_uri": "https://localhost:8080/"
        },
        "id": "_jl91SmZo4PE",
        "outputId": "f75d7a76-dc7c-4825-ed66-938cc81bb26a"
      },
      "execution_count": null,
      "outputs": [
        {
          "output_type": "stream",
          "name": "stdout",
          "text": [
            "Covariance: 10.0\n"
          ]
        }
      ]
    },
    {
      "cell_type": "code",
      "source": [
        "def covariance(x, y):\n",
        "    n = len(x)\n",
        "    mean_x = sum(x) / n\n",
        "    mean_y = sum(y) / n\n",
        "    deviations_x = [(i - mean_x) for i in x]\n",
        "    deviations_y = [(i - mean_y) for i in y]\n",
        "    covariance = sum([deviations_x[i] * deviations_y[i] for i in range(n)]) / (n - 1)\n",
        "    return covariance\n",
        "\n",
        "x = [10, 20, 30, 40, 50, 60]\n",
        "y = [15, 25, 35, 45, 55, 65]\n",
        "print(covariance(x, y))\n"
      ],
      "metadata": {
        "colab": {
          "base_uri": "https://localhost:8080/"
        },
        "id": "rkGwIvwr1mOX",
        "outputId": "ab5272dd-0876-4f21-9b3c-2b132e7f3abe"
      },
      "execution_count": null,
      "outputs": [
        {
          "output_type": "stream",
          "name": "stdout",
          "text": [
            "350.0\n"
          ]
        }
      ]
    },
    {
      "cell_type": "code",
      "source": [
        "#coefficient_of_range\n",
        "\n",
        "data = [6,-6]\n",
        "range = max(data) - min(data)\n",
        "deno=max(data) + min(data)\n",
        "if(deno==0):\n",
        "    pass\n",
        "else:\n",
        "    co_range = range/deno\n",
        "co_range"
      ],
      "metadata": {
        "colab": {
          "base_uri": "https://localhost:8080/"
        },
        "id": "Qf5L2ogk66W-",
        "outputId": "2ef177bb-0ccd-43ab-f460-b86cb4fcd745"
      },
      "execution_count": null,
      "outputs": [
        {
          "output_type": "execute_result",
          "data": {
            "text/plain": [
              "0.5"
            ]
          },
          "metadata": {},
          "execution_count": 22
        }
      ]
    }
  ]
}