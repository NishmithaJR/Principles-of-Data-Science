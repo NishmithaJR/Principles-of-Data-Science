{
  "cells": [
    {
      "cell_type": "markdown",
      "metadata": {
        "id": "view-in-github",
        "colab_type": "text"
      },
      "source": [
        "<a href=\"https://colab.research.google.com/github/NishmithaJR/Principles-of-Data-Science/blob/main/Python_statistics_libraries.ipynb\" target=\"_parent\"><img src=\"https://colab.research.google.com/assets/colab-badge.svg\" alt=\"Open In Colab\"/></a>"
      ]
    },
    {
      "cell_type": "code",
      "execution_count": null,
      "id": "99db5dbf",
      "metadata": {
        "id": "99db5dbf",
        "outputId": "c62576ab-3264-487c-f1f6-4dd277172b0d"
      },
      "outputs": [
        {
          "name": "stdout",
          "output_type": "stream",
          "text": [
            "The average of list values is : 2\n"
          ]
        }
      ],
      "source": [
        "import statistics\n",
        "# initializing list\n",
        "li = [1, 2, 3, 3, 2, 2, 2, 1]\n",
        "\n",
        "# using mean() to calculate average of list\n",
        "# elements\n",
        "print (\"The average of list values is : \",end=\"\")\n",
        "print (statistics.mean(li))"
      ]
    },
    {
      "cell_type": "code",
      "execution_count": null,
      "id": "37a521a3",
      "metadata": {
        "id": "37a521a3",
        "outputId": "1c865c30-99a6-406f-8ff5-59b6f4f014cc"
      },
      "outputs": [
        {
          "name": "stdout",
          "output_type": "stream",
          "text": [
            "Median of data-set 1 is 5\n",
            "Median of data-set 2 is 5.9\n",
            "Median of data-set 3 is 2\n",
            "Median of data-set 4 is -5\n",
            "Median of data-set 5 is 0.0\n"
          ]
        }
      ],
      "source": [
        "from statistics import median\n",
        "from fractions import Fraction as fr\n",
        "data1 = (2, 3, 4, 5, 7, 9, 11)\n",
        "# tuple of floating point values\n",
        "data2 = (2.4, 5.1, 6.7, 8.9)\n",
        "# tuple of fractional numbers\n",
        "data3 = (fr(1, 2), fr(44, 12), fr(10, 3), fr(2, 3))\n",
        "data4 = (-5, -1, -12, -19, -3)\n",
        "data5 = (-1, -2, -3, -4, 4, 3, 2, 1)\n",
        "# Printing the median of above datasets\n",
        "print(\"Median of data-set 1 is % s\" % (median(data1)))\n",
        "print(\"Median of data-set 2 is % s\" % (median(data2)))\n",
        "print(\"Median of data-set 3 is % s\" % (median(data3)))\n",
        "print(\"Median of data-set 4 is % s\" % (median(data4)))\n",
        "print(\"Median of data-set 5 is % s\" % (median(data5)))"
      ]
    },
    {
      "cell_type": "code",
      "execution_count": null,
      "id": "7c3e28c9",
      "metadata": {
        "id": "7c3e28c9",
        "outputId": "b12d2afb-4a53-49d6-eabf-19cc0b332ee8"
      },
      "outputs": [
        {
          "name": "stdout",
          "output_type": "stream",
          "text": [
            "Mode of data set 1 is 5\n",
            "Mode of data set 2 is 1.3\n",
            "Mode of data set 3 is 1/2\n",
            "Mode of data set 4 is -2\n",
            "Mode of data set 5 is black\n"
          ]
        }
      ],
      "source": [
        "from statistics import mode\n",
        "from fractions import Fraction as fr\n",
        "# tuple of positive integer numbers\n",
        "data1 = (2, 3, 3, 4, 5, 5, 5, 5, 6, 6, 6, 7)\n",
        "# tuple of a set of floating point values\n",
        "data2 = (2.4, 1.3, 1.3, 1.3, 2.4, 4.6)\n",
        "# tuple of a set of fractional numbers\n",
        "data3 = (fr(1, 2), fr(1, 2), fr(10, 3), fr(2, 3))\n",
        "# tuple of a set of negative integers\n",
        "data4 = (-1, -2, -2, -2, -7, -7, -9)\n",
        "# tuple of strings\n",
        "data5 = (\"red\", \"blue\", \"black\", \"blue\", \"black\", \"black\", \"brown\")\n",
        "# Printing out the mode of the above data-sets\n",
        "print(\"Mode of data set 1 is % s\" % (mode(data1)))\n",
        "print(\"Mode of data set 2 is % s\" % (mode(data2)))\n",
        "print(\"Mode of data set 3 is % s\" % (mode(data3)))\n",
        "print(\"Mode of data set 4 is % s\" % (mode(data4)))\n",
        "print(\"Mode of data set 5 is % s\" % (mode(data5)))"
      ]
    },
    {
      "cell_type": "code",
      "execution_count": null,
      "id": "238333c0",
      "metadata": {
        "id": "238333c0",
        "outputId": "56ea9377-b68c-4e62-d6c2-02731ee4c7e7"
      },
      "outputs": [
        {
          "name": "stdout",
          "output_type": "stream",
          "text": [
            "Maximum = 5, Minimum = 1 and Range = 4\n"
          ]
        }
      ],
      "source": [
        "# Sample Data\n",
        "arr = [1, 2, 3, 4, 5]\n",
        "#Finding Max\n",
        "Maximum = max(arr)\n",
        "# Finding Min\n",
        "Minimum = min(arr)\n",
        "\n",
        "# Difference Of Max and Min\n",
        "Range = Maximum-Minimum\n",
        "print(\"Maximum = {}, Minimum = {} and Range = {}\".format(\n",
        "Maximum, Minimum, Range))"
      ]
    },
    {
      "cell_type": "code",
      "execution_count": null,
      "id": "d0dce44d",
      "metadata": {
        "id": "d0dce44d",
        "outputId": "02d279b8-ac0f-46ec-bac0-234e258f0720"
      },
      "outputs": [
        {
          "name": "stdout",
          "output_type": "stream",
          "text": [
            "Variance of Sample1 is 15.80952380952381 \n",
            "Variance of Sample2 is 3.5 \n",
            "Variance of Sample3 is 61.125 \n",
            "Variance of Sample4 is 1/45 \n",
            "Variance of Sample5 is 0.17613000000000006 \n"
          ]
        }
      ],
      "source": [
        "# Python code to demonstrate variance()\n",
        "# function on varying range of data-types\n",
        "\n",
        "# importing statistics module\n",
        "from statistics import variance\n",
        "# importing fractions as parameter values\n",
        "from fractions import Fraction as fr\n",
        "# tuple of a set of positive integers\n",
        "# numbers are spread apart but not very much\n",
        "sample1 = (1, 2, 5, 4, 8, 9, 12)\n",
        "# tuple of a set of negative integers\n",
        "sample2 = (-2, -4, -3, -1, -5, -6)\n",
        "# tuple of a set of positive and negative numbers\n",
        "# data-points are spread apart considerably\n",
        "sample3 = (-9, -1, -0, 2, 1, 3, 4, 19)\n",
        "# tuple of a set of fractional numbers\n",
        "sample4 = (fr(1, 2), fr(2, 3), fr(3, 4),\n",
        "fr(5, 6), fr(7, 8))\n",
        "# tuple of a set of floating point values\n",
        "sample5 = (1.23, 1.45, 2.1, 2.2, 1.9)\n",
        "# Print the variance of each samples\n",
        "print(\"Variance of Sample1 is % s \" % (variance(sample1)))\n",
        "print(\"Variance of Sample2 is % s \" % (variance(sample2)))\n",
        "print(\"Variance of Sample3 is % s \" % (variance(sample3)))\n",
        "print(\"Variance of Sample4 is % s \" % (variance(sample4)))\n",
        "print(\"Variance of Sample5 is % s \" % (variance(sample5)))"
      ]
    },
    {
      "cell_type": "code",
      "execution_count": null,
      "id": "00dc1125",
      "metadata": {
        "id": "00dc1125",
        "outputId": "6529efa1-5608-448a-d6f7-1030bafde8cc"
      },
      "outputs": [
        {
          "name": "stdout",
          "output_type": "stream",
          "text": [
            "The Standard Deviation of Sample1 is 3.9761191895520196\n",
            "The Standard Deviation of Sample2 is 1.8708286933869707\n",
            "The Standard Deviation of Sample3 is 7.8182478855559445\n",
            "The Standard Deviation of Sample4 is 0.41967844833872525\n"
          ]
        }
      ],
      "source": [
        "from statistics import stdev\n",
        "# importing fractions as parameter values\n",
        "from fractions import Fraction as fr\n",
        "# creating a varying range of sample sets\n",
        "# numbers are spread apart but not very much\n",
        "sample1 = (1, 2, 5, 4, 8, 9, 12)\n",
        "# tuple of a set of negative integers\n",
        "sample2 = (-2, -4, -3, -1, -5, -6)\n",
        "# tuple of a set of positive and negative numbers\n",
        "# data-points are spread apart considerably\n",
        "sample3 = (-9, -1, -0, 2, 1, 3, 4, 19)\n",
        "# tuple of a set of floating point values\n",
        "sample4 = (1.23, 1.45, 2.1, 2.2, 1.9)\n",
        "# Print the standard deviation of\n",
        "# following sample sets of observations\n",
        "print(\"The Standard Deviation of Sample1 is % s\"\n",
        "% (stdev(sample1)))\n",
        "print(\"The Standard Deviation of Sample2 is % s\"\n",
        "% (stdev(sample2)))\n",
        "print(\"The Standard Deviation of Sample3 is % s\"\n",
        "% (stdev(sample3)))\n",
        "print(\"The Standard Deviation of Sample4 is % s\"\n",
        "% (stdev(sample4)))"
      ]
    },
    {
      "cell_type": "code",
      "execution_count": null,
      "id": "9582c7dd",
      "metadata": {
        "id": "9582c7dd",
        "outputId": "bd6ff3cc-1012-4b86-9fe5-3737c0550576"
      },
      "outputs": [
        {
          "data": {
            "text/plain": [
              "DescribeResult(nobs=5, minmax=(1.23, 2.2), mean=1.7759999999999998, variance=0.17613000000000006, skewness=-0.4806761109981359, kurtosis=-2.2079587259232767)"
            ]
          },
          "execution_count": 14,
          "metadata": {},
          "output_type": "execute_result"
        }
      ],
      "source": [
        "import scipy\n",
        "from scipy import stats\n",
        "import pandas\n",
        "result = scipy.stats.describe(sample4, ddof=1, bias=False)\n",
        "result"
      ]
    },
    {
      "cell_type": "code",
      "execution_count": null,
      "id": "afd90579",
      "metadata": {
        "id": "afd90579",
        "outputId": "6ab0fc9f-1a4f-4c53-a896-cd52bf1cc579"
      },
      "outputs": [
        {
          "data": {
            "text/plain": [
              "5"
            ]
          },
          "execution_count": 16,
          "metadata": {},
          "output_type": "execute_result"
        }
      ],
      "source": [
        "result.nobs"
      ]
    },
    {
      "cell_type": "code",
      "execution_count": null,
      "id": "dd08de42",
      "metadata": {
        "id": "dd08de42",
        "outputId": "49b0f195-a7c4-46c7-ca76-6386c93be364"
      },
      "outputs": [
        {
          "data": {
            "text/plain": [
              "1.23"
            ]
          },
          "execution_count": 17,
          "metadata": {},
          "output_type": "execute_result"
        }
      ],
      "source": [
        "result.minmax[0] # Min"
      ]
    },
    {
      "cell_type": "code",
      "execution_count": null,
      "id": "16adaed7",
      "metadata": {
        "id": "16adaed7",
        "outputId": "fd19bb70-6153-4857-f670-0ec8a4e37b38"
      },
      "outputs": [
        {
          "data": {
            "text/plain": [
              "2.2"
            ]
          },
          "execution_count": 18,
          "metadata": {},
          "output_type": "execute_result"
        }
      ],
      "source": [
        "result.minmax[1] # Max"
      ]
    },
    {
      "cell_type": "code",
      "execution_count": null,
      "id": "f4ab656f",
      "metadata": {
        "id": "f4ab656f",
        "outputId": "39e0caac-6add-45ed-c6fa-d838652da7b3"
      },
      "outputs": [
        {
          "data": {
            "text/plain": [
              "1.7759999999999998"
            ]
          },
          "execution_count": 19,
          "metadata": {},
          "output_type": "execute_result"
        }
      ],
      "source": [
        "result.mean"
      ]
    },
    {
      "cell_type": "code",
      "execution_count": null,
      "id": "1d0fa1c6",
      "metadata": {
        "id": "1d0fa1c6",
        "outputId": "c77eb40e-a881-4f42-9d1f-7cf2108217de"
      },
      "outputs": [
        {
          "data": {
            "text/plain": [
              "0.17613000000000006"
            ]
          },
          "execution_count": 20,
          "metadata": {},
          "output_type": "execute_result"
        }
      ],
      "source": [
        "result.variance"
      ]
    },
    {
      "cell_type": "code",
      "execution_count": null,
      "id": "cac1333c",
      "metadata": {
        "id": "cac1333c",
        "outputId": "d53ca3de-36d8-4dba-967a-17fa3f681939"
      },
      "outputs": [
        {
          "data": {
            "text/plain": [
              "-0.4806761109981359"
            ]
          },
          "execution_count": 21,
          "metadata": {},
          "output_type": "execute_result"
        }
      ],
      "source": [
        "result.skewness"
      ]
    },
    {
      "cell_type": "code",
      "execution_count": null,
      "id": "a51365e9",
      "metadata": {
        "id": "a51365e9",
        "outputId": "0db1ed69-e86a-497f-e53c-8e87a720edf9"
      },
      "outputs": [
        {
          "data": {
            "text/plain": [
              "-2.2079587259232767"
            ]
          },
          "execution_count": 22,
          "metadata": {},
          "output_type": "execute_result"
        }
      ],
      "source": [
        "result.kurtosis"
      ]
    },
    {
      "cell_type": "code",
      "execution_count": null,
      "id": "ca1551c8",
      "metadata": {
        "id": "ca1551c8",
        "outputId": "2f773db0-7cc3-490d-95b2-e29f48afd51f"
      },
      "outputs": [
        {
          "data": {
            "text/html": [
              "<div>\n",
              "<style scoped>\n",
              "    .dataframe tbody tr th:only-of-type {\n",
              "        vertical-align: middle;\n",
              "    }\n",
              "\n",
              "    .dataframe tbody tr th {\n",
              "        vertical-align: top;\n",
              "    }\n",
              "\n",
              "    .dataframe thead th {\n",
              "        text-align: right;\n",
              "    }\n",
              "</style>\n",
              "<table border=\"1\" class=\"dataframe\">\n",
              "  <thead>\n",
              "    <tr style=\"text-align: right;\">\n",
              "      <th></th>\n",
              "      <th>0</th>\n",
              "    </tr>\n",
              "  </thead>\n",
              "  <tbody>\n",
              "    <tr>\n",
              "      <th>count</th>\n",
              "      <td>7.000000</td>\n",
              "    </tr>\n",
              "    <tr>\n",
              "      <th>mean</th>\n",
              "      <td>5.857143</td>\n",
              "    </tr>\n",
              "    <tr>\n",
              "      <th>std</th>\n",
              "      <td>3.976119</td>\n",
              "    </tr>\n",
              "    <tr>\n",
              "      <th>min</th>\n",
              "      <td>1.000000</td>\n",
              "    </tr>\n",
              "    <tr>\n",
              "      <th>25%</th>\n",
              "      <td>3.000000</td>\n",
              "    </tr>\n",
              "    <tr>\n",
              "      <th>50%</th>\n",
              "      <td>5.000000</td>\n",
              "    </tr>\n",
              "    <tr>\n",
              "      <th>75%</th>\n",
              "      <td>8.500000</td>\n",
              "    </tr>\n",
              "    <tr>\n",
              "      <th>max</th>\n",
              "      <td>12.000000</td>\n",
              "    </tr>\n",
              "  </tbody>\n",
              "</table>\n",
              "</div>"
            ],
            "text/plain": [
              "               0\n",
              "count   7.000000\n",
              "mean    5.857143\n",
              "std     3.976119\n",
              "min     1.000000\n",
              "25%     3.000000\n",
              "50%     5.000000\n",
              "75%     8.500000\n",
              "max    12.000000"
            ]
          },
          "execution_count": 2,
          "metadata": {},
          "output_type": "execute_result"
        }
      ],
      "source": [
        "import pandas as pd\n",
        "z=(1,2,5,4,8,9,12)\n",
        "result=pd.DataFrame(z)\n",
        "re=result.describe()\n",
        "re.loc[:]"
      ]
    },
    {
      "cell_type": "code",
      "execution_count": null,
      "id": "110902bd",
      "metadata": {
        "id": "110902bd",
        "outputId": "2e6a4dc5-07d2-42a9-d77f-91e41fd24510"
      },
      "outputs": [
        {
          "data": {
            "text/plain": [
              "0    5.857143\n",
              "Name: mean, dtype: float64"
            ]
          },
          "execution_count": 4,
          "metadata": {},
          "output_type": "execute_result"
        }
      ],
      "source": [
        "re.loc['mean']"
      ]
    },
    {
      "cell_type": "code",
      "execution_count": null,
      "id": "22379c88",
      "metadata": {
        "id": "22379c88",
        "outputId": "7737825f-1547-42b5-c24f-10b6be7a81b4"
      },
      "outputs": [
        {
          "data": {
            "text/plain": [
              "0    1.0\n",
              "Name: min, dtype: float64"
            ]
          },
          "execution_count": 5,
          "metadata": {},
          "output_type": "execute_result"
        }
      ],
      "source": [
        "re.loc['min']"
      ]
    },
    {
      "cell_type": "code",
      "execution_count": null,
      "id": "e3d07acd",
      "metadata": {
        "id": "e3d07acd",
        "outputId": "860f1f22-20a3-4a04-8d3b-f8c499c1a5e7"
      },
      "outputs": [
        {
          "data": {
            "text/plain": [
              "0    12.0\n",
              "Name: max, dtype: float64"
            ]
          },
          "execution_count": 6,
          "metadata": {},
          "output_type": "execute_result"
        }
      ],
      "source": [
        "re.loc['max']"
      ]
    },
    {
      "cell_type": "code",
      "execution_count": null,
      "id": "4b58a46b",
      "metadata": {
        "id": "4b58a46b",
        "outputId": "9d1ad735-d096-456a-b089-ba78a3cbd129"
      },
      "outputs": [
        {
          "data": {
            "text/plain": [
              "0    3.0\n",
              "Name: 25%, dtype: float64"
            ]
          },
          "execution_count": 7,
          "metadata": {},
          "output_type": "execute_result"
        }
      ],
      "source": [
        "re.loc['25%']"
      ]
    },
    {
      "cell_type": "code",
      "execution_count": null,
      "id": "b667baea",
      "metadata": {
        "id": "b667baea",
        "outputId": "c24586f1-9893-494c-8314-fb178135f0b3"
      },
      "outputs": [
        {
          "data": {
            "text/plain": [
              "0    5.0\n",
              "Name: 50%, dtype: float64"
            ]
          },
          "execution_count": 8,
          "metadata": {},
          "output_type": "execute_result"
        }
      ],
      "source": [
        "re.loc['50%']"
      ]
    },
    {
      "cell_type": "code",
      "execution_count": null,
      "id": "60387f23",
      "metadata": {
        "id": "60387f23",
        "outputId": "d9a366a0-166d-4981-de4b-d778fbb1f94a"
      },
      "outputs": [
        {
          "data": {
            "text/plain": [
              "0    8.5\n",
              "Name: 75%, dtype: float64"
            ]
          },
          "execution_count": 9,
          "metadata": {},
          "output_type": "execute_result"
        }
      ],
      "source": [
        "re.loc['75%']"
      ]
    },
    {
      "cell_type": "code",
      "execution_count": null,
      "id": "d067a1a5",
      "metadata": {
        "id": "d067a1a5"
      },
      "outputs": [],
      "source": [
        "import pandas as pd\n",
        "import numpy as np\n",
        "x = list(range(-10, 11)) \n",
        "y = [0, 2, 2, 2, 2, 3, 3, 6, 7, 4, 7, 6, 6, 9, 4,5, 5, 10, 11, 12, 14] \n",
        "x_, y_ = np.array(x), np.array(y) \n",
        "x__, y__ =pd.Series(x_), pd.Series(y_)"
      ]
    },
    {
      "cell_type": "code",
      "execution_count": null,
      "id": "8244b8b9",
      "metadata": {
        "id": "8244b8b9",
        "outputId": "4b5e2c74-1090-4b1d-e4f0-3fb1a5847878"
      },
      "outputs": [
        {
          "data": {
            "text/plain": [
              "array([-10,  -9,  -8,  -7,  -6,  -5,  -4,  -3,  -2,  -1,   0,   1,   2,\n",
              "         3,   4,   5,   6,   7,   8,   9,  10])"
            ]
          },
          "execution_count": 16,
          "metadata": {},
          "output_type": "execute_result"
        }
      ],
      "source": [
        "x_"
      ]
    },
    {
      "cell_type": "code",
      "execution_count": null,
      "id": "1898c67a",
      "metadata": {
        "id": "1898c67a",
        "outputId": "a62708b3-e273-49b0-fbb2-b8e8dd9abbde"
      },
      "outputs": [
        {
          "data": {
            "text/plain": [
              "array([ 0,  2,  2,  2,  2,  3,  3,  6,  7,  4,  7,  6,  6,  9,  4,  5,  5,\n",
              "       10, 11, 12, 14])"
            ]
          },
          "execution_count": 17,
          "metadata": {},
          "output_type": "execute_result"
        }
      ],
      "source": [
        "y_"
      ]
    },
    {
      "cell_type": "code",
      "execution_count": null,
      "id": "980d3690",
      "metadata": {
        "id": "980d3690",
        "outputId": "2bc80556-fe96-406a-db3f-e2557cbc4ca6"
      },
      "outputs": [
        {
          "data": {
            "text/plain": [
              "0    -10\n",
              "1     -9\n",
              "2     -8\n",
              "3     -7\n",
              "4     -6\n",
              "5     -5\n",
              "6     -4\n",
              "7     -3\n",
              "8     -2\n",
              "9     -1\n",
              "10     0\n",
              "11     1\n",
              "12     2\n",
              "13     3\n",
              "14     4\n",
              "15     5\n",
              "16     6\n",
              "17     7\n",
              "18     8\n",
              "19     9\n",
              "20    10\n",
              "dtype: int32"
            ]
          },
          "execution_count": 18,
          "metadata": {},
          "output_type": "execute_result"
        }
      ],
      "source": [
        "x__"
      ]
    },
    {
      "cell_type": "code",
      "source": [
        "y__"
      ],
      "metadata": {
        "colab": {
          "base_uri": "https://localhost:8080/"
        },
        "id": "3g1k4_pgO9I9",
        "outputId": "86657c9e-6753-4337-c7e1-fcd2f0131d60"
      },
      "id": "3g1k4_pgO9I9",
      "execution_count": null,
      "outputs": [
        {
          "output_type": "execute_result",
          "data": {
            "text/plain": [
              "0      0\n",
              "1      2\n",
              "2      2\n",
              "3      2\n",
              "4      2\n",
              "5      3\n",
              "6      3\n",
              "7      6\n",
              "8      7\n",
              "9      4\n",
              "10     7\n",
              "11     6\n",
              "12     6\n",
              "13     9\n",
              "14     4\n",
              "15     5\n",
              "16     5\n",
              "17    10\n",
              "18    11\n",
              "19    12\n",
              "20    14\n",
              "dtype: int64"
            ]
          },
          "metadata": {},
          "execution_count": 2
        }
      ]
    },
    {
      "cell_type": "code",
      "execution_count": null,
      "id": "2d35463d",
      "metadata": {
        "id": "2d35463d",
        "outputId": "65494808-4867-409d-f39f-2fc4db09bae6"
      },
      "outputs": [
        {
          "data": {
            "text/plain": [
              "19.95"
            ]
          },
          "execution_count": 24,
          "metadata": {},
          "output_type": "execute_result"
        }
      ],
      "source": [
        "n = len(x)\n",
        "mean_x, mean_y = sum(x) / n, sum(y) / n\n",
        "cov_xy = (sum((x[k] - mean_x) * (y[k] - mean_y) for k in range(n))/ (n - 1))\n",
        "cov_xy"
      ]
    },
    {
      "cell_type": "code",
      "execution_count": null,
      "id": "40d4374a",
      "metadata": {
        "id": "40d4374a",
        "outputId": "c82932d3-99ae-4070-fca6-ce18ff03e3fd"
      },
      "outputs": [
        {
          "data": {
            "text/plain": [
              "array([[38.5       , 19.95      ],\n",
              "       [19.95      , 13.91428571]])"
            ]
          },
          "execution_count": 25,
          "metadata": {},
          "output_type": "execute_result"
        }
      ],
      "source": [
        "cov_matrix = np.cov(x_, y_)\n",
        "cov_matrix"
      ]
    }
  ],
  "metadata": {
    "kernelspec": {
      "display_name": "Python 3 (ipykernel)",
      "language": "python",
      "name": "python3"
    },
    "language_info": {
      "codemirror_mode": {
        "name": "ipython",
        "version": 3
      },
      "file_extension": ".py",
      "mimetype": "text/x-python",
      "name": "python",
      "nbconvert_exporter": "python",
      "pygments_lexer": "ipython3",
      "version": "3.9.7"
    },
    "colab": {
      "provenance": [],
      "include_colab_link": true
    }
  },
  "nbformat": 4,
  "nbformat_minor": 5
}