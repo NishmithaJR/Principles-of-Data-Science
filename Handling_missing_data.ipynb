{
  "nbformat": 4,
  "nbformat_minor": 0,
  "metadata": {
    "colab": {
      "provenance": [],
      "authorship_tag": "ABX9TyMt3cllfQYR7XRG5rrSUXPq",
      "include_colab_link": true
    },
    "kernelspec": {
      "name": "python3",
      "display_name": "Python 3"
    },
    "language_info": {
      "name": "python"
    }
  },
  "cells": [
    {
      "cell_type": "markdown",
      "metadata": {
        "id": "view-in-github",
        "colab_type": "text"
      },
      "source": [
        "<a href=\"https://colab.research.google.com/github/NishmithaJR/Principles-of-Data-Science/blob/main/Handling_missing_data.ipynb\" target=\"_parent\"><img src=\"https://colab.research.google.com/assets/colab-badge.svg\" alt=\"Open In Colab\"/></a>"
      ]
    },
    {
      "cell_type": "markdown",
      "source": [
        "Calculating with missing data"
      ],
      "metadata": {
        "id": "h08dC8agvupV"
      }
    },
    {
      "cell_type": "code",
      "execution_count": null,
      "metadata": {
        "colab": {
          "base_uri": "https://localhost:8080/"
        },
        "id": "HMUrVZTKvEDn",
        "outputId": "38b9ce01-7369-4f17-8392-87f318654d56"
      },
      "outputs": [
        {
          "output_type": "stream",
          "name": "stdout",
          "text": [
            "[3 None 0 4 None]\n"
          ]
        }
      ],
      "source": [
        "import numpy as np\n",
        "import pandas as pd\n",
        "array = np.array([3, None, 0, 4, None])\n",
        "print(array)"
      ]
    },
    {
      "cell_type": "code",
      "source": [
        "import numpy as np\n",
        "import pandas as pd\n",
        "array = np.array([3, np.nan, 0, 4, np.nan])    \n",
        "print(array)"
      ],
      "metadata": {
        "colab": {
          "base_uri": "https://localhost:8080/"
        },
        "id": "0CL6Sgqzvd2W",
        "outputId": "14e977cf-c11d-4482-8b12-b7fca9039473"
      },
      "execution_count": null,
      "outputs": [
        {
          "output_type": "stream",
          "name": "stdout",
          "text": [
            "[ 3. nan  0.  4. nan]\n"
          ]
        }
      ]
    },
    {
      "cell_type": "markdown",
      "source": [
        "Cleaning missing data"
      ],
      "metadata": {
        "id": "aYmJRyQ6v07k"
      }
    },
    {
      "cell_type": "code",
      "source": [
        "#Import the libraries\n",
        "import numpy as np\n",
        "import pandas as pd\n",
        "\n",
        "# Create a CSV dataset\n",
        "data_string = '''ID,Gender,Salary,Country,Company\n",
        "1,Male,15000,India,Google\n",
        "2,Female,45000,China,NaN\n",
        "3,Female,25000,India,Google\n",
        "4,NaN,NaN,Australia,Google\n",
        "5,Male,NaN,India,Google\n",
        "6,Male,54000,NaN,Alibaba\n",
        "7,NaN,74000,China,NaN\n",
        "8,Male,14000,Australia,NaN\n",
        "9,Female,15000,NaN,NaN\n",
        "10,Male,33000,Australia,NaN'''\n",
        "\n",
        "with open('salary.csv', 'w') as out:\n",
        "    out.write(data_string)\n",
        "\n",
        "# Import the dataset\n",
        "df = pd.read_csv('/content/salary.csv')\n",
        "print('Salary Dataset: \\n', df)\n",
        "\n",
        "# Check for missing data\n",
        "print('Missing Data\\n', df.isna())\n",
        "\n",
        "print('Missing Data\\n', df.isnull())\n",
        "\n",
        "# Print only missing data\n",
        "print('Filter based on columns: \\n', df[df.isnull().any(axis=1)]) \n",
        "\n",
        "# Sum up the missing values\n",
        "print('Sum up the missing values: \\n', df.isnull().sum())"
      ],
      "metadata": {
        "colab": {
          "base_uri": "https://localhost:8080/"
        },
        "id": "ddlmBYPCvquk",
        "outputId": "25148db7-bfb0-4c09-e685-7401c895251f"
      },
      "execution_count": null,
      "outputs": [
        {
          "output_type": "stream",
          "name": "stdout",
          "text": [
            "Salary Dataset: \n",
            "    ID  Gender   Salary    Country  Company\n",
            "0   1    Male  15000.0      India   Google\n",
            "1   2  Female  45000.0      China      NaN\n",
            "2   3  Female  25000.0      India   Google\n",
            "3   4     NaN      NaN  Australia   Google\n",
            "4   5    Male      NaN      India   Google\n",
            "5   6    Male  54000.0        NaN  Alibaba\n",
            "6   7     NaN  74000.0      China      NaN\n",
            "7   8    Male  14000.0  Australia      NaN\n",
            "8   9  Female  15000.0        NaN      NaN\n",
            "9  10    Male  33000.0  Australia      NaN\n",
            "Missing Data\n",
            "       ID  Gender  Salary  Country  Company\n",
            "0  False   False   False    False    False\n",
            "1  False   False   False    False     True\n",
            "2  False   False   False    False    False\n",
            "3  False    True    True    False    False\n",
            "4  False   False    True    False    False\n",
            "5  False   False   False     True    False\n",
            "6  False    True   False    False     True\n",
            "7  False   False   False    False     True\n",
            "8  False   False   False     True     True\n",
            "9  False   False   False    False     True\n",
            "Missing Data\n",
            "       ID  Gender  Salary  Country  Company\n",
            "0  False   False   False    False    False\n",
            "1  False   False   False    False     True\n",
            "2  False   False   False    False    False\n",
            "3  False    True    True    False    False\n",
            "4  False   False    True    False    False\n",
            "5  False   False   False     True    False\n",
            "6  False    True   False    False     True\n",
            "7  False   False   False    False     True\n",
            "8  False   False   False     True     True\n",
            "9  False   False   False    False     True\n",
            "Filter based on columns: \n",
            "    ID  Gender   Salary    Country  Company\n",
            "1   2  Female  45000.0      China      NaN\n",
            "3   4     NaN      NaN  Australia   Google\n",
            "4   5    Male      NaN      India   Google\n",
            "5   6    Male  54000.0        NaN  Alibaba\n",
            "6   7     NaN  74000.0      China      NaN\n",
            "7   8    Male  14000.0  Australia      NaN\n",
            "8   9  Female  15000.0        NaN      NaN\n",
            "9  10    Male  33000.0  Australia      NaN\n",
            "Sum up the missing values: \n",
            " ID         0\n",
            "Gender     2\n",
            "Salary     2\n",
            "Country    2\n",
            "Company    5\n",
            "dtype: int64\n"
          ]
        }
      ]
    },
    {
      "cell_type": "markdown",
      "source": [
        "Dropping missing data"
      ],
      "metadata": {
        "id": "aUTu2DSbwGbt"
      }
    },
    {
      "cell_type": "code",
      "source": [
        "df.dropna(inplace=True)\n",
        "print(df)"
      ],
      "metadata": {
        "colab": {
          "base_uri": "https://localhost:8080/"
        },
        "id": "hnHvNY3ZwLTd",
        "outputId": "f3e390d0-6eaa-4728-f145-19ead1348b4e"
      },
      "execution_count": null,
      "outputs": [
        {
          "output_type": "stream",
          "name": "stdout",
          "text": [
            "   ID  Gender   Salary Country Company\n",
            "0   1    Male  15000.0   India  Google\n",
            "2   3  Female  25000.0   India  Google\n"
          ]
        }
      ]
    },
    {
      "cell_type": "markdown",
      "source": [
        "Replacing missing data"
      ],
      "metadata": {
        "id": "Q7C1OrnpwgKb"
      }
    },
    {
      "cell_type": "code",
      "source": [
        "df[\"Salary\"].fillna(20000, inplace=True)\n",
        "print(df)"
      ],
      "metadata": {
        "colab": {
          "base_uri": "https://localhost:8080/"
        },
        "id": "fHpU6ltFwijb",
        "outputId": "35163b88-5b00-4a9a-863d-86a6070869f7"
      },
      "execution_count": null,
      "outputs": [
        {
          "output_type": "stream",
          "name": "stdout",
          "text": [
            "   ID  Gender   Salary Country Company\n",
            "0   1    Male  15000.0   India  Google\n",
            "2   3  Female  25000.0   India  Google\n"
          ]
        }
      ]
    },
    {
      "cell_type": "markdown",
      "source": [
        "Important Functions for Handling Missing Data in Pandas"
      ],
      "metadata": {
        "id": "EiyP2gIKwqZt"
      }
    },
    {
      "cell_type": "markdown",
      "source": [
        "isnull()"
      ],
      "metadata": {
        "id": "XCOzFH2gwsWN"
      }
    },
    {
      "cell_type": "code",
      "source": [
        "#Import the libraries\n",
        "import numpy as np\n",
        "import pandas as pd\n",
        "\n",
        "# Create a CSV dataset\n",
        "data_string = '''ID,Gender,Salary,Country,Company\n",
        "1,Male,15000,India,Google\n",
        "2,Female,45000,China,NaN\n",
        "3,Female,25000,India,Google\n",
        "4,NaN,NaN,Australia,Google\n",
        "5,Male,NaN,India,Google\n",
        "6,Male,54000,NaN,Alibaba\n",
        "7,NaN,74000,China,NaN\n",
        "8,Male,14000,Australia,NaN\n",
        "9,Female,15000,NaN,NaN\n",
        "10,Male,33000,Australia,NaN'''\n",
        "\n",
        "with open('salary.csv', 'w') as out:\n",
        "    out.write(data_string)\n",
        "\n",
        "# Import the dataset\n",
        "df = pd.read_csv('/content/salary.csv')\n",
        "\n",
        "print('Missing Data\\n', df.isnull())"
      ],
      "metadata": {
        "colab": {
          "base_uri": "https://localhost:8080/"
        },
        "id": "qfQ70J2-wu5N",
        "outputId": "1b342edd-063e-4f2e-9aad-f9e0b5b8101f"
      },
      "execution_count": null,
      "outputs": [
        {
          "output_type": "stream",
          "name": "stdout",
          "text": [
            "Missing Data\n",
            "       ID  Gender  Salary  Country  Company\n",
            "0  False   False   False    False    False\n",
            "1  False   False   False    False     True\n",
            "2  False   False   False    False    False\n",
            "3  False    True    True    False    False\n",
            "4  False   False    True    False    False\n",
            "5  False   False   False     True    False\n",
            "6  False    True   False    False     True\n",
            "7  False   False   False    False     True\n",
            "8  False   False   False     True     True\n",
            "9  False   False   False    False     True\n"
          ]
        }
      ]
    },
    {
      "cell_type": "markdown",
      "source": [
        "For specific column data, we access using the df[] syntax"
      ],
      "metadata": {
        "id": "dljEwgWz1jet"
      }
    },
    {
      "cell_type": "code",
      "source": [
        "gender = pd.isnull(df[\"Gender\"])\n",
        "gender    "
      ],
      "metadata": {
        "colab": {
          "base_uri": "https://localhost:8080/"
        },
        "id": "qGl675E2w88N",
        "outputId": "8adbe7a3-ad39-430b-97c0-8c5a17642531"
      },
      "execution_count": null,
      "outputs": [
        {
          "output_type": "execute_result",
          "data": {
            "text/plain": [
              "0    False\n",
              "1    False\n",
              "2    False\n",
              "3     True\n",
              "4    False\n",
              "5    False\n",
              "6     True\n",
              "7    False\n",
              "8    False\n",
              "9    False\n",
              "Name: Gender, dtype: bool"
            ]
          },
          "metadata": {},
          "execution_count": 7
        }
      ]
    },
    {
      "cell_type": "markdown",
      "source": [
        "notnull()"
      ],
      "metadata": {
        "id": "c_CyMe45w-nF"
      }
    },
    {
      "cell_type": "code",
      "source": [
        "#Import the libraries\n",
        "import numpy as np\n",
        "import pandas as pd\n",
        "\n",
        "# Create a CSV dataset\n",
        "data_string = '''ID,Gender,Salary,Country,Company\n",
        "1,Male,15000,India,Google\n",
        "2,Female,45000,China,NaN\n",
        "3,Female,25000,India,Google\n",
        "4,NaN,NaN,Australia,Google\n",
        "5,Male,NaN,India,Google\n",
        "6,Male,54000,NaN,Alibaba\n",
        "7,NaN,74000,China,NaN\n",
        "8,Male,14000,Australia,NaN\n",
        "9,Female,15000,NaN,NaN\n",
        "10,Male,33000,Australia,NaN'''\n",
        "\n",
        "with open('salary.csv', 'w') as out:\n",
        "    out.write(data_string)\n",
        "\n",
        "# Import the dataset\n",
        "df = pd.read_csv('/content/salary.csv')\n",
        "\n",
        "print('Non Missing Data\\n', df.notnull())"
      ],
      "metadata": {
        "colab": {
          "base_uri": "https://localhost:8080/"
        },
        "id": "vH30n7ejxBQl",
        "outputId": "d1463f6f-f7c8-4fe5-eb37-1348f5f7d6a8"
      },
      "execution_count": null,
      "outputs": [
        {
          "output_type": "stream",
          "name": "stdout",
          "text": [
            "Non Missing Data\n",
            "      ID  Gender  Salary  Country  Company\n",
            "0  True    True    True     True     True\n",
            "1  True    True    True     True    False\n",
            "2  True    True    True     True     True\n",
            "3  True   False   False     True     True\n",
            "4  True    True   False     True     True\n",
            "5  True    True    True    False     True\n",
            "6  True   False    True     True    False\n",
            "7  True    True    True     True    False\n",
            "8  True    True    True    False    False\n",
            "9  True    True    True     True    False\n"
          ]
        }
      ]
    },
    {
      "cell_type": "markdown",
      "source": [
        "dropna()"
      ],
      "metadata": {
        "id": "cgMhJB9QxGf-"
      }
    },
    {
      "cell_type": "code",
      "source": [
        "#Import the libraries\n",
        "import numpy as np\n",
        "import pandas as pd\n",
        "\n",
        "# Create a CSV dataset\n",
        "data_string = '''ID,Gender,Salary,Country,Company\n",
        "1,Male,15000,India,Google\n",
        "2,Female,45000,China,NaN\n",
        "3,Female,25000,India,Google\n",
        "4,NaN,NaN,Australia,Google\n",
        "5,Male,NaN,India,Google\n",
        "6,Male,54000,NaN,Alibaba\n",
        "7,NaN,74000,China,NaN\n",
        "8,Male,14000,Australia,NaN\n",
        "9,Female,15000,NaN,NaN\n",
        "10,Male,33000,Australia,NaN'''\n",
        "\n",
        "with open('salary.csv', 'w') as out:\n",
        "    out.write(data_string)\n",
        "\n",
        "# Import the dataset\n",
        "df = pd.read_csv('/content/salary.csv')\n",
        "\n",
        "print('Drop Missing Company Data\\n', df.Company.dropna())\n",
        "df.dropna()"
      ],
      "metadata": {
        "colab": {
          "base_uri": "https://localhost:8080/",
          "height": 234
        },
        "id": "0AoSfiMTxJne",
        "outputId": "7fb2efae-3df7-47db-c056-9eab37c37e6b"
      },
      "execution_count": null,
      "outputs": [
        {
          "output_type": "stream",
          "name": "stdout",
          "text": [
            "Drop Missing Company Data\n",
            " 0     Google\n",
            "2     Google\n",
            "3     Google\n",
            "4     Google\n",
            "5    Alibaba\n",
            "Name: Company, dtype: object\n"
          ]
        },
        {
          "output_type": "execute_result",
          "data": {
            "text/plain": [
              "   ID  Gender   Salary Country Company\n",
              "0   1    Male  15000.0   India  Google\n",
              "2   3  Female  25000.0   India  Google"
            ],
            "text/html": [
              "\n",
              "  <div id=\"df-12f82790-c0ad-4cac-af85-4f3d7118a4bf\">\n",
              "    <div class=\"colab-df-container\">\n",
              "      <div>\n",
              "<style scoped>\n",
              "    .dataframe tbody tr th:only-of-type {\n",
              "        vertical-align: middle;\n",
              "    }\n",
              "\n",
              "    .dataframe tbody tr th {\n",
              "        vertical-align: top;\n",
              "    }\n",
              "\n",
              "    .dataframe thead th {\n",
              "        text-align: right;\n",
              "    }\n",
              "</style>\n",
              "<table border=\"1\" class=\"dataframe\">\n",
              "  <thead>\n",
              "    <tr style=\"text-align: right;\">\n",
              "      <th></th>\n",
              "      <th>ID</th>\n",
              "      <th>Gender</th>\n",
              "      <th>Salary</th>\n",
              "      <th>Country</th>\n",
              "      <th>Company</th>\n",
              "    </tr>\n",
              "  </thead>\n",
              "  <tbody>\n",
              "    <tr>\n",
              "      <th>0</th>\n",
              "      <td>1</td>\n",
              "      <td>Male</td>\n",
              "      <td>15000.0</td>\n",
              "      <td>India</td>\n",
              "      <td>Google</td>\n",
              "    </tr>\n",
              "    <tr>\n",
              "      <th>2</th>\n",
              "      <td>3</td>\n",
              "      <td>Female</td>\n",
              "      <td>25000.0</td>\n",
              "      <td>India</td>\n",
              "      <td>Google</td>\n",
              "    </tr>\n",
              "  </tbody>\n",
              "</table>\n",
              "</div>\n",
              "      <button class=\"colab-df-convert\" onclick=\"convertToInteractive('df-12f82790-c0ad-4cac-af85-4f3d7118a4bf')\"\n",
              "              title=\"Convert this dataframe to an interactive table.\"\n",
              "              style=\"display:none;\">\n",
              "        \n",
              "  <svg xmlns=\"http://www.w3.org/2000/svg\" height=\"24px\"viewBox=\"0 0 24 24\"\n",
              "       width=\"24px\">\n",
              "    <path d=\"M0 0h24v24H0V0z\" fill=\"none\"/>\n",
              "    <path d=\"M18.56 5.44l.94 2.06.94-2.06 2.06-.94-2.06-.94-.94-2.06-.94 2.06-2.06.94zm-11 1L8.5 8.5l.94-2.06 2.06-.94-2.06-.94L8.5 2.5l-.94 2.06-2.06.94zm10 10l.94 2.06.94-2.06 2.06-.94-2.06-.94-.94-2.06-.94 2.06-2.06.94z\"/><path d=\"M17.41 7.96l-1.37-1.37c-.4-.4-.92-.59-1.43-.59-.52 0-1.04.2-1.43.59L10.3 9.45l-7.72 7.72c-.78.78-.78 2.05 0 2.83L4 21.41c.39.39.9.59 1.41.59.51 0 1.02-.2 1.41-.59l7.78-7.78 2.81-2.81c.8-.78.8-2.07 0-2.86zM5.41 20L4 18.59l7.72-7.72 1.47 1.35L5.41 20z\"/>\n",
              "  </svg>\n",
              "      </button>\n",
              "      \n",
              "  <style>\n",
              "    .colab-df-container {\n",
              "      display:flex;\n",
              "      flex-wrap:wrap;\n",
              "      gap: 12px;\n",
              "    }\n",
              "\n",
              "    .colab-df-convert {\n",
              "      background-color: #E8F0FE;\n",
              "      border: none;\n",
              "      border-radius: 50%;\n",
              "      cursor: pointer;\n",
              "      display: none;\n",
              "      fill: #1967D2;\n",
              "      height: 32px;\n",
              "      padding: 0 0 0 0;\n",
              "      width: 32px;\n",
              "    }\n",
              "\n",
              "    .colab-df-convert:hover {\n",
              "      background-color: #E2EBFA;\n",
              "      box-shadow: 0px 1px 2px rgba(60, 64, 67, 0.3), 0px 1px 3px 1px rgba(60, 64, 67, 0.15);\n",
              "      fill: #174EA6;\n",
              "    }\n",
              "\n",
              "    [theme=dark] .colab-df-convert {\n",
              "      background-color: #3B4455;\n",
              "      fill: #D2E3FC;\n",
              "    }\n",
              "\n",
              "    [theme=dark] .colab-df-convert:hover {\n",
              "      background-color: #434B5C;\n",
              "      box-shadow: 0px 1px 3px 1px rgba(0, 0, 0, 0.15);\n",
              "      filter: drop-shadow(0px 1px 2px rgba(0, 0, 0, 0.3));\n",
              "      fill: #FFFFFF;\n",
              "    }\n",
              "  </style>\n",
              "\n",
              "      <script>\n",
              "        const buttonEl =\n",
              "          document.querySelector('#df-12f82790-c0ad-4cac-af85-4f3d7118a4bf button.colab-df-convert');\n",
              "        buttonEl.style.display =\n",
              "          google.colab.kernel.accessAllowed ? 'block' : 'none';\n",
              "\n",
              "        async function convertToInteractive(key) {\n",
              "          const element = document.querySelector('#df-12f82790-c0ad-4cac-af85-4f3d7118a4bf');\n",
              "          const dataTable =\n",
              "            await google.colab.kernel.invokeFunction('convertToInteractive',\n",
              "                                                     [key], {});\n",
              "          if (!dataTable) return;\n",
              "\n",
              "          const docLinkHtml = 'Like what you see? Visit the ' +\n",
              "            '<a target=\"_blank\" href=https://colab.research.google.com/notebooks/data_table.ipynb>data table notebook</a>'\n",
              "            + ' to learn more about interactive tables.';\n",
              "          element.innerHTML = '';\n",
              "          dataTable['output_type'] = 'display_data';\n",
              "          await google.colab.output.renderOutput(dataTable, element);\n",
              "          const docLink = document.createElement('div');\n",
              "          docLink.innerHTML = docLinkHtml;\n",
              "          element.appendChild(docLink);\n",
              "        }\n",
              "      </script>\n",
              "    </div>\n",
              "  </div>\n",
              "  "
            ]
          },
          "metadata": {},
          "execution_count": 10
        }
      ]
    },
    {
      "cell_type": "markdown",
      "source": [
        "Eliminate columns with at least one missing value."
      ],
      "metadata": {
        "id": "l0Cj91TO1aEG"
      }
    },
    {
      "cell_type": "code",
      "source": [
        "df.dropna(axis = 1)\n",
        "print(df)"
      ],
      "metadata": {
        "colab": {
          "base_uri": "https://localhost:8080/"
        },
        "id": "2Xf0NbcExce8",
        "outputId": "43d3334d-3e31-4d95-f5ff-5c7ffb86c93e"
      },
      "execution_count": null,
      "outputs": [
        {
          "output_type": "stream",
          "name": "stdout",
          "text": [
            "   ID  Gender   Salary    Country  Company\n",
            "0   1    Male  15000.0      India   Google\n",
            "1   2  Female  45000.0      China      NaN\n",
            "2   3  Female  25000.0      India   Google\n",
            "3   4     NaN      NaN  Australia   Google\n",
            "4   5    Male      NaN      India   Google\n",
            "5   6    Male  54000.0        NaN  Alibaba\n",
            "6   7     NaN  74000.0      China      NaN\n",
            "7   8    Male  14000.0  Australia      NaN\n",
            "8   9  Female  15000.0        NaN      NaN\n",
            "9  10    Male  33000.0  Australia      NaN\n"
          ]
        }
      ]
    },
    {
      "cell_type": "markdown",
      "source": [
        "Dropping rows in a CSV file that include at least one null value."
      ],
      "metadata": {
        "id": "5ibxwX6g1r7d"
      }
    },
    {
      "cell_type": "code",
      "source": [
        "new_df = df.dropna(axis = 0, how ='any')\n",
        "print(new_df)"
      ],
      "metadata": {
        "colab": {
          "base_uri": "https://localhost:8080/"
        },
        "id": "iv0KvMKl1tOW",
        "outputId": "99cc42fd-1201-4edb-c759-eea7e70b2ac2"
      },
      "execution_count": null,
      "outputs": [
        {
          "output_type": "stream",
          "name": "stdout",
          "text": [
            "   ID  Gender   Salary Country Company\n",
            "0   1    Male  15000.0   India  Google\n",
            "2   3  Female  25000.0   India  Google\n"
          ]
        }
      ]
    },
    {
      "cell_type": "markdown",
      "source": [
        "fillna()"
      ],
      "metadata": {
        "id": "-9cPGuIq1x-e"
      }
    },
    {
      "cell_type": "code",
      "source": [
        "#Import the libraries\n",
        "import numpy as np\n",
        "import pandas as pd\n",
        "\n",
        "# Create a CSV dataset\n",
        "data_string = '''ID,Gender,Salary,Country,Company\n",
        "1,Male,15000,India,Google\n",
        "2,Female,45000,China,NaN\n",
        "3,Female,25000,India,Google\n",
        "4,NaN,NaN,Australia,Google\n",
        "5,Male,NaN,India,Google\n",
        "6,Male,54000,NaN,Alibaba\n",
        "7,NaN,74000,China,NaN\n",
        "8,Male,14000,Australia,NaN\n",
        "9,Female,15000,NaN,NaN\n",
        "10,Male,33000,Australia,NaN'''\n",
        "\n",
        "with open('salary.csv', 'w') as out:\n",
        "    out.write(data_string)\n",
        "\n",
        "# Import the dataset\n",
        "df = pd.read_csv('/content/salary.csv')\n",
        "\n",
        "print('Fill Missing Data\\n', df.fillna(0))"
      ],
      "metadata": {
        "colab": {
          "base_uri": "https://localhost:8080/"
        },
        "id": "nhu9KeSl1ys-",
        "outputId": "1cd98bcb-d494-4bee-8188-495150d2ccdb"
      },
      "execution_count": null,
      "outputs": [
        {
          "output_type": "stream",
          "name": "stdout",
          "text": [
            "Fill Missing Data\n",
            "    ID  Gender   Salary    Country  Company\n",
            "0   1    Male  15000.0      India   Google\n",
            "1   2  Female  45000.0      China        0\n",
            "2   3  Female  25000.0      India   Google\n",
            "3   4       0      0.0  Australia   Google\n",
            "4   5    Male      0.0      India   Google\n",
            "5   6    Male  54000.0          0  Alibaba\n",
            "6   7       0  74000.0      China        0\n",
            "7   8    Male  14000.0  Australia        0\n",
            "8   9  Female  15000.0          0        0\n",
            "9  10    Male  33000.0  Australia        0\n"
          ]
        }
      ]
    },
    {
      "cell_type": "markdown",
      "source": [
        "fill in a null value with a previous value."
      ],
      "metadata": {
        "id": "aM5GYq6t2B4P"
      }
    },
    {
      "cell_type": "code",
      "source": [
        "print('Fill Missing Data\\n', df.fillna(method ='pad'))"
      ],
      "metadata": {
        "colab": {
          "base_uri": "https://localhost:8080/"
        },
        "id": "criUb9Yo2Cl3",
        "outputId": "c006b61b-1c5b-46d4-a029-97a6f0413510"
      },
      "execution_count": null,
      "outputs": [
        {
          "output_type": "stream",
          "name": "stdout",
          "text": [
            "Fill Missing Data\n",
            "    ID  Gender   Salary    Country  Company\n",
            "0   1    Male  15000.0      India   Google\n",
            "1   2  Female  45000.0      China   Google\n",
            "2   3  Female  25000.0      India   Google\n",
            "3   4  Female  25000.0  Australia   Google\n",
            "4   5    Male  25000.0      India   Google\n",
            "5   6    Male  54000.0      India  Alibaba\n",
            "6   7    Male  74000.0      China  Alibaba\n",
            "7   8    Male  14000.0  Australia  Alibaba\n",
            "8   9  Female  15000.0  Australia  Alibaba\n",
            "9  10    Male  33000.0  Australia  Alibaba\n"
          ]
        }
      ]
    },
    {
      "cell_type": "markdown",
      "source": [
        "to fill in a null value with a next value"
      ],
      "metadata": {
        "id": "vdCijglL2Ku2"
      }
    },
    {
      "cell_type": "code",
      "source": [
        "print('Fill Missing Data\\n', df.fillna(method ='bfill'))"
      ],
      "metadata": {
        "colab": {
          "base_uri": "https://localhost:8080/"
        },
        "id": "rcJuu2jQ2MTo",
        "outputId": "4f7c3a56-0d0e-4434-84f3-09a7a5a1b172"
      },
      "execution_count": null,
      "outputs": [
        {
          "output_type": "stream",
          "name": "stdout",
          "text": [
            "Fill Missing Data\n",
            "    ID  Gender   Salary    Country  Company\n",
            "0   1    Male  15000.0      India   Google\n",
            "1   2  Female  45000.0      China   Google\n",
            "2   3  Female  25000.0      India   Google\n",
            "3   4    Male  54000.0  Australia   Google\n",
            "4   5    Male  54000.0      India   Google\n",
            "5   6    Male  54000.0      China  Alibaba\n",
            "6   7    Male  74000.0      China      NaN\n",
            "7   8    Male  14000.0  Australia      NaN\n",
            "8   9  Female  15000.0  Australia      NaN\n",
            "9  10    Male  33000.0  Australia      NaN\n"
          ]
        }
      ]
    },
    {
      "cell_type": "markdown",
      "source": [
        " fill in a null value of a specific column with a specified value."
      ],
      "metadata": {
        "id": "jP9oWwT12Wie"
      }
    },
    {
      "cell_type": "code",
      "source": [
        "print('Fill Missing Data\\n', df[\"Gender\"].fillna(\"No Gender\", inplace = True))\n"
      ],
      "metadata": {
        "colab": {
          "base_uri": "https://localhost:8080/"
        },
        "id": "CzHXuSnx2Xhf",
        "outputId": "2f783b6e-f53f-4e67-fdc0-75f1c698242b"
      },
      "execution_count": null,
      "outputs": [
        {
          "output_type": "stream",
          "name": "stdout",
          "text": [
            "Fill Missing Data\n",
            " None\n"
          ]
        }
      ]
    },
    {
      "cell_type": "markdown",
      "source": [
        "replace()"
      ],
      "metadata": {
        "id": "8bLlY-q62aAf"
      }
    },
    {
      "cell_type": "code",
      "source": [
        "print(df.replace(to_replace = 'Google', value = 'Microsoft'))\n"
      ],
      "metadata": {
        "colab": {
          "base_uri": "https://localhost:8080/"
        },
        "id": "vJETbzsE2tfF",
        "outputId": "25a01b68-5c19-4443-d1b6-55ef583547cb"
      },
      "execution_count": null,
      "outputs": [
        {
          "output_type": "stream",
          "name": "stdout",
          "text": [
            "   ID     Gender   Salary    Country    Company\n",
            "0   1       Male  15000.0      India  Microsoft\n",
            "1   2     Female  45000.0      China        NaN\n",
            "2   3     Female  25000.0      India  Microsoft\n",
            "3   4  No Gender      NaN  Australia  Microsoft\n",
            "4   5       Male      NaN      India  Microsoft\n",
            "5   6       Male  54000.0        NaN    Alibaba\n",
            "6   7  No Gender  74000.0      China        NaN\n",
            "7   8       Male  14000.0  Australia        NaN\n",
            "8   9     Female  15000.0        NaN        NaN\n",
            "9  10       Male  33000.0  Australia        NaN\n"
          ]
        }
      ]
    },
    {
      "cell_type": "markdown",
      "source": [
        "interpolate()"
      ],
      "metadata": {
        "id": "ZWws6akl2wkV"
      }
    },
    {
      "cell_type": "code",
      "source": [
        "print(df.interpolate(method ='linear', limit_direction ='forward'))\n"
      ],
      "metadata": {
        "colab": {
          "base_uri": "https://localhost:8080/"
        },
        "id": "pHfub0tg2zjt",
        "outputId": "8471a3af-d4dc-44a7-a3a9-89173663cb1e"
      },
      "execution_count": null,
      "outputs": [
        {
          "output_type": "stream",
          "name": "stdout",
          "text": [
            "   ID     Gender        Salary    Country  Company\n",
            "0   1       Male  15000.000000      India   Google\n",
            "1   2     Female  45000.000000      China      NaN\n",
            "2   3     Female  25000.000000      India   Google\n",
            "3   4  No Gender  34666.666667  Australia   Google\n",
            "4   5       Male  44333.333333      India   Google\n",
            "5   6       Male  54000.000000        NaN  Alibaba\n",
            "6   7  No Gender  74000.000000      China      NaN\n",
            "7   8       Male  14000.000000  Australia      NaN\n",
            "8   9     Female  15000.000000        NaN      NaN\n",
            "9  10       Male  33000.000000  Australia      NaN\n"
          ]
        }
      ]
    }
  ]
}