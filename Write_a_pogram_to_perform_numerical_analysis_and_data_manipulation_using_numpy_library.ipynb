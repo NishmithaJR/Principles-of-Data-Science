{
  "nbformat": 4,
  "nbformat_minor": 0,
  "metadata": {
    "colab": {
      "provenance": [],
      "authorship_tag": "ABX9TyO4BhdTLGl/Z6tDqld6j/UP",
      "include_colab_link": true
    },
    "kernelspec": {
      "name": "python3",
      "display_name": "Python 3"
    },
    "language_info": {
      "name": "python"
    }
  },
  "cells": [
    {
      "cell_type": "markdown",
      "metadata": {
        "id": "view-in-github",
        "colab_type": "text"
      },
      "source": [
        "<a href=\"https://colab.research.google.com/github/NishmithaJR/Principles-of-Data-Science/blob/main/Write_a_pogram_to_perform_numerical_analysis_and_data_manipulation_using_numpy_library.ipynb\" target=\"_parent\"><img src=\"https://colab.research.google.com/assets/colab-badge.svg\" alt=\"Open In Colab\"/></a>"
      ]
    },
    {
      "cell_type": "code",
      "execution_count": null,
      "metadata": {
        "id": "uqYgB9aHNogO"
      },
      "outputs": [],
      "source": []
    },
    {
      "cell_type": "markdown",
      "source": [
        "1) Create numpy array"
      ],
      "metadata": {
        "id": "pcNe44N_OrKE"
      }
    },
    {
      "cell_type": "code",
      "source": [
        "import numpy as np\n",
        "#create an ID array\n",
        "arr1=np.array([1,2,3])\n",
        "print(arr1)"
      ],
      "metadata": {
        "colab": {
          "base_uri": "https://localhost:8080/"
        },
        "id": "ilt-sVMpPAtr",
        "outputId": "90fb6fe7-ce46-4199-9d16-8dbe4ab1c134"
      },
      "execution_count": null,
      "outputs": [
        {
          "output_type": "stream",
          "name": "stdout",
          "text": [
            "[1 2 3]\n"
          ]
        }
      ]
    },
    {
      "cell_type": "markdown",
      "source": [
        "2) Access and manipulate elements in the array"
      ],
      "metadata": {
        "id": "9xSUvQnvRPLy"
      }
    },
    {
      "cell_type": "code",
      "source": [
        "#Accessing elements from the arry\n",
        "arr1[2]\n",
        "#Change an element from the array\n",
        "arr1[2]=5\n",
        "arr1"
      ],
      "metadata": {
        "colab": {
          "base_uri": "https://localhost:8080/"
        },
        "id": "FWOy_3a7RhXb",
        "outputId": "01aa5ca4-43c6-49e2-ba21-1353d37a7d3f"
      },
      "execution_count": null,
      "outputs": [
        {
          "output_type": "execute_result",
          "data": {
            "text/plain": [
              "array([1, 2, 5])"
            ]
          },
          "metadata": {},
          "execution_count": 4
        }
      ]
    },
    {
      "cell_type": "markdown",
      "source": [
        "3) Create a 2-dimensional array and check the shape of the array"
      ],
      "metadata": {
        "id": "0HJWgJNNSSZy"
      }
    },
    {
      "cell_type": "code",
      "source": [
        "#Create 20 array\n",
        "arr2=np.array([[1,2,3],[4,5,6]])\n",
        "print(arr2)"
      ],
      "metadata": {
        "colab": {
          "base_uri": "https://localhost:8080/"
        },
        "id": "8uDuO7rtSeSN",
        "outputId": "648d51dc-26d2-4e81-a3b5-68c9623a36a1"
      },
      "execution_count": null,
      "outputs": [
        {
          "output_type": "stream",
          "name": "stdout",
          "text": [
            "[[1 2 3]\n",
            " [4 5 6]]\n"
          ]
        }
      ]
    },
    {
      "cell_type": "markdown",
      "source": [
        "4) Access elements from the 2D array using index positions"
      ],
      "metadata": {
        "id": "bMB6yDqNTbZi"
      }
    },
    {
      "cell_type": "code",
      "source": [
        "#Accessing elements from the array\n",
        "print(arr2[0][2])\n",
        "print(arr2[0,2])\n",
        "print(arr2[0,-1])\n",
        "print(arr2[-1,0])"
      ],
      "metadata": {
        "colab": {
          "base_uri": "https://localhost:8080/"
        },
        "id": "JAjBinxwTjb7",
        "outputId": "faf034f0-82fe-4348-c9ff-8a11753dca66"
      },
      "execution_count": null,
      "outputs": [
        {
          "output_type": "stream",
          "name": "stdout",
          "text": [
            "3\n",
            "3\n",
            "3\n",
            "4\n"
          ]
        }
      ]
    },
    {
      "cell_type": "markdown",
      "source": [
        "5)Creare an array of type string"
      ],
      "metadata": {
        "id": "FiJWLrVMUcyq"
      }
    },
    {
      "cell_type": "code",
      "source": [
        "#Array of type string\n",
        "arr3=np.array(['India','China','USA','Mexico'])\n",
        "print(arr3)"
      ],
      "metadata": {
        "colab": {
          "base_uri": "https://localhost:8080/"
        },
        "id": "1TC1_B6KUkUJ",
        "outputId": "bc8cf323-9aa7-49e1-aeb8-dd0e3382176b"
      },
      "execution_count": null,
      "outputs": [
        {
          "output_type": "stream",
          "name": "stdout",
          "text": [
            "['India' 'China' 'USA' 'Mexico']\n"
          ]
        }
      ]
    },
    {
      "cell_type": "code",
      "source": [
        "arr3[1]"
      ],
      "metadata": {
        "colab": {
          "base_uri": "https://localhost:8080/",
          "height": 35
        },
        "id": "P7DfnIbJVUri",
        "outputId": "c701c5fc-96ba-44c6-abc0-efc139621085"
      },
      "execution_count": null,
      "outputs": [
        {
          "output_type": "execute_result",
          "data": {
            "text/plain": [
              "'China'"
            ],
            "application/vnd.google.colaboratory.intrinsic+json": {
              "type": "string"
            }
          },
          "metadata": {},
          "execution_count": 10
        }
      ]
    },
    {
      "cell_type": "markdown",
      "source": [
        "6) Using the arrange() and linspace() function to evenly space values in a specified interval"
      ],
      "metadata": {
        "id": "n7KrpHwGVkKK"
      }
    },
    {
      "cell_type": "code",
      "source": [
        "#Array of evenly spaced values in a specified interval\n",
        "arr=np.arange(0,20,2)\n",
        "print(arr)"
      ],
      "metadata": {
        "colab": {
          "base_uri": "https://localhost:8080/"
        },
        "id": "JkaUr-AKWFMB",
        "outputId": "d373f1ad-4f3b-40c1-90aa-c42ea076442a"
      },
      "execution_count": null,
      "outputs": [
        {
          "output_type": "stream",
          "name": "stdout",
          "text": [
            "[ 0  2  4  6  8 10 12 14 16 18]\n"
          ]
        }
      ]
    },
    {
      "cell_type": "code",
      "source": [
        "#Array of evenly spaced number in a specified interval\n",
        "arr=np.linspace(0,10,20)\n",
        "print(arr)"
      ],
      "metadata": {
        "colab": {
          "base_uri": "https://localhost:8080/"
        },
        "id": "5nNor4UEWsIv",
        "outputId": "820507d7-0a3c-4930-d514-86fd2b71509e"
      },
      "execution_count": null,
      "outputs": [
        {
          "output_type": "stream",
          "name": "stdout",
          "text": [
            "[ 0.          0.52631579  1.05263158  1.57894737  2.10526316  2.63157895\n",
            "  3.15789474  3.68421053  4.21052632  4.73684211  5.26315789  5.78947368\n",
            "  6.31578947  6.84210526  7.36842105  7.89473684  8.42105263  8.94736842\n",
            "  9.47368421 10.        ]\n"
          ]
        }
      ]
    },
    {
      "cell_type": "markdown",
      "source": [
        "7) Cretae an array of random values between 0 and 1 in a given shape"
      ],
      "metadata": {
        "id": "_SXB16QqXqOZ"
      }
    },
    {
      "cell_type": "code",
      "source": [
        "#Array of random values between 0 and 1 in agiven shape\n",
        "arr=np.random.rand(10)\n",
        "print(arr)\n",
        "print('\\n')\n",
        "arr=np.random.rand(3,4)\n",
        "print(arr)"
      ],
      "metadata": {
        "colab": {
          "base_uri": "https://localhost:8080/"
        },
        "id": "I9bc6yf_X0mB",
        "outputId": "7dc6b897-96dc-452d-806f-acb678ffaa9a"
      },
      "execution_count": null,
      "outputs": [
        {
          "output_type": "stream",
          "name": "stdout",
          "text": [
            "[0.1312415  0.44559721 0.149097   0.41824655 0.46476223 0.76893651\n",
            " 0.81406706 0.34289821 0.05952458 0.27783776]\n",
            "\n",
            "\n",
            "[[0.02048757 0.97079427 0.68386741 0.85176328]\n",
            " [0.12943635 0.16378686 0.26109425 0.61928531]\n",
            " [0.99029512 0.2306524  0.04413424 0.16775363]]\n"
          ]
        }
      ]
    },
    {
      "cell_type": "markdown",
      "source": [
        "8) Create an array of constant values in a given shape"
      ],
      "metadata": {
        "id": "D9LF52LIYyxJ"
      }
    },
    {
      "cell_type": "code",
      "source": [
        "#Array of constant values in a given shape\n",
        "print(np.full((4,6),10))"
      ],
      "metadata": {
        "colab": {
          "base_uri": "https://localhost:8080/"
        },
        "id": "nuqSNlHCZBAw",
        "outputId": "002b620c-2fed-4626-a32b-4c535cb39cab"
      },
      "execution_count": null,
      "outputs": [
        {
          "output_type": "stream",
          "name": "stdout",
          "text": [
            "[[10 10 10 10 10 10]\n",
            " [10 10 10 10 10 10]\n",
            " [10 10 10 10 10 10]\n",
            " [10 10 10 10 10 10]]\n"
          ]
        }
      ]
    },
    {
      "cell_type": "markdown",
      "source": [
        "9) Repeat each element of an array by a specified number of times using repeat() and tile() functions"
      ],
      "metadata": {
        "id": "3Di-2apVZy0A"
      }
    },
    {
      "cell_type": "code",
      "source": [
        "#Create an array by repetition \n",
        "#Repeat each element of an array by a specified number of times\n",
        "arr=[0,1,2]\n",
        "print(np.repeat(arr,3))"
      ],
      "metadata": {
        "colab": {
          "base_uri": "https://localhost:8080/"
        },
        "id": "7YIy9-5qaDp2",
        "outputId": "8b72b781-9058-457c-9db3-6834f31ab2f6"
      },
      "execution_count": null,
      "outputs": [
        {
          "output_type": "stream",
          "name": "stdout",
          "text": [
            "[0 0 0 1 1 1 2 2 2]\n"
          ]
        }
      ]
    },
    {
      "cell_type": "code",
      "source": [
        "#Repeat an array by a specified number of times\n",
        "arr=[0,1,2]\n",
        "print(np.tile(arr,3))"
      ],
      "metadata": {
        "colab": {
          "base_uri": "https://localhost:8080/"
        },
        "id": "L44O6EcDalN4",
        "outputId": "491b4b0f-c846-40bf-91bb-d755fc7b5921"
      },
      "execution_count": null,
      "outputs": [
        {
          "output_type": "stream",
          "name": "stdout",
          "text": [
            "[0 1 2 0 1 2 0 1 2]\n"
          ]
        }
      ]
    },
    {
      "cell_type": "markdown",
      "source": [
        "10) Create an identity matrix using eye() and identity() functions"
      ],
      "metadata": {
        "id": "HB_EtBuubF35"
      }
    },
    {
      "cell_type": "code",
      "source": [
        "#Create an identity matrix\n",
        "identity_matrix=np.eye(3)\n",
        "print(identity_matrix)"
      ],
      "metadata": {
        "colab": {
          "base_uri": "https://localhost:8080/"
        },
        "id": "3nU_MGGvbRdg",
        "outputId": "97bdc60f-ea0c-4dc7-c743-94703f97b268"
      },
      "execution_count": null,
      "outputs": [
        {
          "output_type": "stream",
          "name": "stdout",
          "text": [
            "[[1. 0. 0.]\n",
            " [0. 1. 0.]\n",
            " [0. 0. 1.]]\n"
          ]
        }
      ]
    },
    {
      "cell_type": "code",
      "source": [
        "identity_matrix=np.identity(3)\n",
        "print(identity_matrix)"
      ],
      "metadata": {
        "colab": {
          "base_uri": "https://localhost:8080/"
        },
        "id": "-cMgpm9ebw3W",
        "outputId": "673a9bd7-1b55-479a-a50d-65e98311e8e1"
      },
      "execution_count": null,
      "outputs": [
        {
          "output_type": "stream",
          "name": "stdout",
          "text": [
            "[[1. 0. 0.]\n",
            " [0. 1. 0.]\n",
            " [0. 0. 1.]]\n"
          ]
        }
      ]
    },
    {
      "cell_type": "markdown",
      "source": [
        "11) Create a 5*5 2D array for random numbers between 0 and 1"
      ],
      "metadata": {
        "id": "HT1GkZNYcGs4"
      }
    },
    {
      "cell_type": "code",
      "source": [
        "arr=np.random.rand(5,5)\n",
        "print(arr)"
      ],
      "metadata": {
        "colab": {
          "base_uri": "https://localhost:8080/"
        },
        "id": "spGtFuMMcc5R",
        "outputId": "4700a5b6-18a6-451b-9408-ed65096f5a48"
      },
      "execution_count": null,
      "outputs": [
        {
          "output_type": "stream",
          "name": "stdout",
          "text": [
            "[[0.14733541 0.52817981 0.06469303 0.12479386 0.591861  ]\n",
            " [0.81619962 0.5386092  0.03355767 0.32721732 0.67429592]\n",
            " [0.03000999 0.31773152 0.57018811 0.17432051 0.7393409 ]\n",
            " [0.55596329 0.32792742 0.19487927 0.79176846 0.16692356]\n",
            " [0.02221623 0.78341319 0.04129267 0.65035248 0.29153225]]\n"
          ]
        }
      ]
    },
    {
      "cell_type": "markdown",
      "source": [
        "12) Sum an array along the column"
      ],
      "metadata": {
        "id": "s9IigV-AcxYP"
      }
    },
    {
      "cell_type": "code",
      "source": [
        "#Sum along the column\n",
        "print(np.sum(arr,axis=0))"
      ],
      "metadata": {
        "colab": {
          "base_uri": "https://localhost:8080/"
        },
        "id": "D7UO3HRxc17Y",
        "outputId": "d40a13df-832e-4409-81c0-24be4d467490"
      },
      "execution_count": null,
      "outputs": [
        {
          "output_type": "stream",
          "name": "stdout",
          "text": [
            "[1.57172454 2.49586113 0.90461075 2.06845262 2.46395363]\n"
          ]
        }
      ]
    },
    {
      "cell_type": "markdown",
      "source": [
        "13) Sum an array along the row"
      ],
      "metadata": {
        "id": "yu8WVqfedMuu"
      }
    },
    {
      "cell_type": "code",
      "source": [
        "#Sum along the row\n",
        "print(np.sum(arr,axis=1))"
      ],
      "metadata": {
        "colab": {
          "base_uri": "https://localhost:8080/"
        },
        "id": "pz2dn6GxdR4F",
        "outputId": "7a78cd97-b472-44ed-8c62-1827943ea1b8"
      },
      "execution_count": null,
      "outputs": [
        {
          "output_type": "stream",
          "name": "stdout",
          "text": [
            "[1.45686311 2.38987973 1.83159102 2.03746199 1.78880682]\n"
          ]
        }
      ]
    },
    {
      "cell_type": "markdown",
      "source": [
        "14) Calculate the mean, median, standard deviation and variance"
      ],
      "metadata": {
        "id": "j7v6S-fDdjx3"
      }
    },
    {
      "cell_type": "code",
      "source": [
        "print(np. mean(arr))\n",
        "print(np. median(arr))\n",
        "print(np. std(arr))\n",
        "print(np. var(arr))"
      ],
      "metadata": {
        "colab": {
          "base_uri": "https://localhost:8080/"
        },
        "id": "PrlkDaFodtBQ",
        "outputId": "13840948-d3d8-416d-9c6b-c3b967ab4451"
      },
      "execution_count": null,
      "outputs": [
        {
          "output_type": "stream",
          "name": "stdout",
          "text": [
            "0.38018410718412554\n",
            "0.32721732035814954\n",
            "0.2693421905887199\n",
            "0.07254521563113031\n"
          ]
        }
      ]
    },
    {
      "cell_type": "markdown",
      "source": [
        "15) Sort an array along the row using sort() function"
      ],
      "metadata": {
        "id": "BJWiqg1heOVY"
      }
    },
    {
      "cell_type": "code",
      "source": [
        "#Sort an array\n",
        "arr=np.random.rand(5,5)\n",
        "print(arr)"
      ],
      "metadata": {
        "colab": {
          "base_uri": "https://localhost:8080/"
        },
        "id": "7c7wOHVXewzH",
        "outputId": "bee30858-b7ca-4567-bd7f-9ab8d0d3757e"
      },
      "execution_count": null,
      "outputs": [
        {
          "output_type": "stream",
          "name": "stdout",
          "text": [
            "[[0.07213128 0.03648229 0.10552063 0.44740409 0.97388256]\n",
            " [0.05803896 0.77034256 0.70377268 0.04825061 0.67335373]\n",
            " [0.5907241  0.78675588 0.97008434 0.86336675 0.74209927]\n",
            " [0.38744596 0.89049079 0.54425418 0.03177925 0.79009079]\n",
            " [0.8491438  0.97319817 0.53123734 0.86191413 0.75259176]]\n"
          ]
        }
      ]
    },
    {
      "cell_type": "code",
      "source": [
        "#Sort along the row\n",
        "print(np.sort(arr,axis=1))"
      ],
      "metadata": {
        "colab": {
          "base_uri": "https://localhost:8080/"
        },
        "id": "Z99EGX8GfJW3",
        "outputId": "247323b3-640d-4ec0-ab7f-d831ed276096"
      },
      "execution_count": null,
      "outputs": [
        {
          "output_type": "stream",
          "name": "stdout",
          "text": [
            "[[0.03648229 0.07213128 0.10552063 0.44740409 0.97388256]\n",
            " [0.04825061 0.05803896 0.67335373 0.70377268 0.77034256]\n",
            " [0.5907241  0.74209927 0.78675588 0.86336675 0.97008434]\n",
            " [0.03177925 0.38744596 0.54425418 0.79009079 0.89049079]\n",
            " [0.53123734 0.75259176 0.8491438  0.86191413 0.97319817]]\n"
          ]
        }
      ]
    },
    {
      "cell_type": "markdown",
      "source": [
        "16) Append elements to an array using the append() function"
      ],
      "metadata": {
        "id": "fKu9rIz1fda_"
      }
    },
    {
      "cell_type": "code",
      "source": [
        "#Append elements of an array\n",
        "arr=np.array([4,5,6,7])\n",
        "arr1=np.append(arr,8)\n",
        "arr1"
      ],
      "metadata": {
        "colab": {
          "base_uri": "https://localhost:8080/"
        },
        "id": "KvKdgIBefqqm",
        "outputId": "2a9c3450-c714-4729-947e-5ea83eabf597"
      },
      "execution_count": null,
      "outputs": [
        {
          "output_type": "execute_result",
          "data": {
            "text/plain": [
              "array([4, 5, 6, 7, 8])"
            ]
          },
          "metadata": {},
          "execution_count": 29
        }
      ]
    },
    {
      "cell_type": "code",
      "source": [
        "arr2=np.append(arr,[9,10,11])\n",
        "print(arr2)"
      ],
      "metadata": {
        "colab": {
          "base_uri": "https://localhost:8080/"
        },
        "id": "ux_I9SHLgIV3",
        "outputId": "d0e765e9-4f00-4032-8d87-f6fc273d7887"
      },
      "execution_count": null,
      "outputs": [
        {
          "output_type": "stream",
          "name": "stdout",
          "text": [
            "[ 4  5  6  7  9 10 11]\n"
          ]
        }
      ]
    },
    {
      "cell_type": "markdown",
      "source": [
        "17) Delete multiple elements in an array"
      ],
      "metadata": {
        "id": "S9eFXesBgyet"
      }
    },
    {
      "cell_type": "code",
      "source": [
        "#Delete multile elements\n",
        "arr2=np.array([4,5,6,7,8,9,10,11])\n",
        "print(arr2)\n",
        "print('\\n')\n",
        "arr5=np.delete(arr2,[1,4])\n",
        "print(arr5)"
      ],
      "metadata": {
        "colab": {
          "base_uri": "https://localhost:8080/"
        },
        "id": "d_U1VrzFg363",
        "outputId": "ff4d6e45-470b-42ef-f775-2ae52f166124"
      },
      "execution_count": null,
      "outputs": [
        {
          "output_type": "stream",
          "name": "stdout",
          "text": [
            "[ 4  5  6  7  8  9 10 11]\n",
            "\n",
            "\n",
            "[ 4  6  7  9 10 11]\n"
          ]
        }
      ]
    },
    {
      "cell_type": "markdown",
      "source": [
        "18) Concatenate elements from 2 arrays"
      ],
      "metadata": {
        "id": "7x0pdErMiCHn"
      }
    },
    {
      "cell_type": "code",
      "source": [
        "#Combine and split an array\n",
        "arr1=np.array([[1,2,3,4],[1,2,3,4]])\n",
        "arr2=np.array([[5,6,7,8],[5,6,7,8]])\n",
        "#Combine the array items by column\n",
        "cat=np.concatenate((arr1,arr2),axis=0)\n",
        "print(cat)"
      ],
      "metadata": {
        "colab": {
          "base_uri": "https://localhost:8080/"
        },
        "id": "Oa3BQNoZiJ4-",
        "outputId": "1b840b33-c3e4-4f5c-c4de-a4b6513038db"
      },
      "execution_count": null,
      "outputs": [
        {
          "output_type": "stream",
          "name": "stdout",
          "text": [
            "[[1 2 3 4]\n",
            " [1 2 3 4]\n",
            " [5 6 7 8]\n",
            " [5 6 7 8]]\n"
          ]
        }
      ]
    },
    {
      "cell_type": "code",
      "source": [
        "#Combine the array items by row \n",
        "cat=np.concatenate((arr1,arr2),axis=1)\n",
        "print(cat)"
      ],
      "metadata": {
        "colab": {
          "base_uri": "https://localhost:8080/"
        },
        "id": "7Xl7vmhkjEWX",
        "outputId": "7ff33537-42c3-4560-f0dc-45b222dc804a"
      },
      "execution_count": null,
      "outputs": [
        {
          "output_type": "stream",
          "name": "stdout",
          "text": [
            "[[1 2 3 4 5 6 7 8]\n",
            " [1 2 3 4 5 6 7 8]]\n"
          ]
        }
      ]
    }
  ]
}